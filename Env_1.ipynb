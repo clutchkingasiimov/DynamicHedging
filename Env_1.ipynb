{
 "cells": [
  {
   "cell_type": "code",
   "execution_count": 1,
   "id": "de2fabd3",
   "metadata": {},
   "outputs": [],
   "source": [
    "from tracemalloc import start\n",
    "from unicodedata import name\n",
    "import gym \n",
    "from gym import spaces \n",
    "from gym.utils import seeding \n",
    "import numpy as np \n",
    "from Simulator.simulations import OptionSimulation"
   ]
  },
  {
   "cell_type": "code",
   "execution_count": 211,
   "id": "29c6f851",
   "metadata": {},
   "outputs": [],
   "source": [
    "class TradingEnv(gym.Env):\n",
    "    trading_days = 252 #Number of trading days in one year \n",
    "    num_of_shares = 100 #Vanilla options contract size\n",
    "    \"\"\"\n",
    "    Trading Enviroment class with all the modules related \n",
    "    to performing trading under a controlled simulation environment.\n",
    "\n",
    "    Parameters:\n",
    "        num_simulations: The number of GBM and BS simulations to run for the agent to train on\n",
    "        num_contracts: The number of contracts the agent will hold.\n",
    "        multiplier: Float value required for the intensity of the bid-offer spread \n",
    "        tick_size: Used for computing the cost relative to the midpoint of the bid-offer spread\n",
    "        kappa: The risk factor of the portfolio\n",
    "    \"\"\"\n",
    "\n",
    "    def __init__(self,num_simulations=int,num_contracts=int,\n",
    "    multiplier=float,tick_size=float,kappa=float):\n",
    "\n",
    "        self.num_simulations = num_simulations\n",
    "        self.num_contracts = num_contracts \n",
    "        self.multiplier = multiplier \n",
    "        self.tick_size = tick_size\n",
    "        self.kappa = kappa  \n",
    "\n",
    "        os = OptionSimulation(100,self.num_simulations) \n",
    "\n",
    "        self.sim_prices = os.GBM(50,5,0.5,time_increment=1)\n",
    "        self.days_to_expiry = os.ttm #Creates an array of days left to expiry \n",
    "        self.option_price_path, self.option_delta_path = os.BS_call(self.days_to_expiry,self.sim_prices,100,0.05,0,0)\n",
    "\n",
    "        #Action space (Discrete)\n",
    "        self.num_actions = self.num_contracts*self.num_of_shares #Number of actions \n",
    "        self.action_space = spaces.Discrete(1001,start=-self.num_actions) #Discrete action space \n",
    "\n",
    "        if self.num_contracts > 10:\n",
    "            raise ValueError(\"The maximum number of contracts in the simulation cannot be more than 10.\")\n",
    "\n",
    "    def _cost_of_trade(self,n):\n",
    "        #n: Number of shares \n",
    "        cost = self.multiplier * self.tick_size * (np.abs(n) * 0.01*n*n)\n",
    "        return cost \n",
    "\n",
    "    def _wealth_of_trade(self,pt,n):\n",
    "        #W_{t} = q_{t} - c_{t} (pt: Price of the stock at time 't')\n",
    "        ct = self._cost_of_trade(n)\n",
    "        wt = pt - ct \n",
    "        return wt \n",
    "\n",
    "    def reward(self, pt, n):\n",
    "        '''\n",
    "        Computes the reward given to the agent\n",
    "\n",
    "        Parameters:\n",
    "            pt: Price at time 't'\n",
    "            n: Number of shares at time 't'\n",
    "        '''\n",
    "        wt = self._wealth_of_trade(pt, n)\n",
    "        rwd = wt - (self.kappa*0.5)*(wt**2) \n",
    "        return rwd \n",
    "    \n",
    "    def reset(self, path):\n",
    "        # repeatedly go through available simulated paths (if needed)\n",
    "        self.t = 0\n",
    "        self.path = path\n",
    "        ttm = self.days_to_expiry[0]-1\n",
    "\n",
    "        nt = 100 #no of shares\n",
    "        #print(self.sim_prices[self.path])\n",
    "        #print(self.sim_prices[self.path,0])\n",
    "        #print(self.option_price_path[self.path,self.t])\n",
    "\n",
    "        price =  round(self.sim_prices[self.path,self.t])\n",
    "        action = - round(100*(self.option_delta_path[self.path, self.t])) - nt\n",
    "        nt = action\n",
    "        \n",
    "        self.state = [price , action, ttm, nt]\n",
    "\n",
    "        return self.state\n",
    "\n",
    "    def step(self,action):\n",
    "        \n",
    "        self.t = self.t + 1 \n",
    "        price =  round(self.sim_prices[self.path,self.t])\n",
    "        nt = action\n",
    "        ttm = self.days_to_expiry[self.t] \n",
    "        action = - 100*round(self.option_delta_path[self.path, self.t]) - nt\n",
    "        R = self.reward(price, nt)\n",
    "        nt = action \n",
    "        \n",
    "        self.state = [price , action, ttm, nt]\n",
    "        if ttm == self.t+1:\n",
    "            done = True\n",
    "        else:\n",
    "            done = False\n",
    "        \n",
    "        return self.state, R, done\n"
   ]
  },
  {
   "cell_type": "code",
   "execution_count": 212,
   "id": "b7bd03a4",
   "metadata": {},
   "outputs": [],
   "source": [
    "if __name__ == \"__main__\":\n",
    "    env = TradingEnv(num_simulations=100,num_contracts=5,multiplier=1.0,\n",
    "    tick_size=0.1,kappa=0.1)"
   ]
  },
  {
   "cell_type": "code",
   "execution_count": 213,
   "id": "7851f608",
   "metadata": {},
   "outputs": [],
   "source": [
    "env = TradingEnv(num_simulations=100,num_contracts=5,multiplier=1.0,\n",
    "    tick_size=0.1,kappa=0.1)"
   ]
  },
  {
   "cell_type": "code",
   "execution_count": 214,
   "id": "482bcb2e",
   "metadata": {},
   "outputs": [
    {
     "data": {
      "text/plain": [
       "[100, -165, 249, -165]"
      ]
     },
     "execution_count": 214,
     "metadata": {},
     "output_type": "execute_result"
    }
   ],
   "source": [
    "env.reset(path = 1)"
   ]
  },
  {
   "cell_type": "code",
   "execution_count": 215,
   "id": "d3a7fbf5",
   "metadata": {},
   "outputs": [
    {
     "name": "stdout",
     "output_type": "stream",
     "text": [
      "[98, 65, 249, 65] -969810.85078125 False\n",
      "[97, -165, 248, -165] -1755.15703125 False\n",
      "[99, 65, 247, 65] -969370.48828125 False\n",
      "[110, -165, 246, -165] -1519.6945312500002 False\n",
      "[114, 65, 245, 65] -962777.05078125 False\n",
      "[116, -165, 244, -165] -1416.71953125 False\n",
      "[107, 65, 243, 65] -965851.1882812501 False\n",
      "[99, -165, 242, -165] -1717.83203125 False\n",
      "[97, 65, 241, 65] -970251.3132812501 False\n",
      "[104, -165, 240, -165] -1626.26953125 False\n"
     ]
    }
   ],
   "source": [
    "state = env.reset(1)\n",
    "for i in range(10):\n",
    "    action = state[1]\n",
    "    state, reward, done = env.step(action)\n",
    "    print(state, reward, done)"
   ]
  },
  {
   "cell_type": "code",
   "execution_count": null,
   "id": "f10c48f1",
   "metadata": {},
   "outputs": [],
   "source": []
  }
 ],
 "metadata": {
  "kernelspec": {
   "display_name": "Python 3",
   "language": "python",
   "name": "python3"
  },
  "language_info": {
   "codemirror_mode": {
    "name": "ipython",
    "version": 3
   },
   "file_extension": ".py",
   "mimetype": "text/x-python",
   "name": "python",
   "nbconvert_exporter": "python",
   "pygments_lexer": "ipython3",
   "version": "3.8.8"
  }
 },
 "nbformat": 4,
 "nbformat_minor": 5
}
