{
 "cells": [
  {
   "cell_type": "code",
   "execution_count": 9,
   "id": "de2fabd3",
   "metadata": {},
   "outputs": [
    {
     "name": "stderr",
     "output_type": "stream",
     "text": [
      "\n"
     ]
    }
   ],
   "source": [
    "from tracemalloc import start\n",
    "from unicodedata import name\n",
    "import gym \n",
    "from gym import spaces \n",
    "from gym.utils import seeding \n",
    "import numpy as np \n",
    "from simulations import OptionSimulation"
   ]
  },
  {
   "cell_type": "code",
   "execution_count": 98,
   "id": "5aa20493",
   "metadata": {},
   "outputs": [],
   "source": [
    "def hello():\n",
    "    if 5 < 7:\n",
    "        pass\n",
    "    print('ok')"
   ]
  },
  {
   "cell_type": "code",
   "execution_count": 10,
   "id": "ad760134",
   "metadata": {},
   "outputs": [],
   "source": [
    "action = spaces.Discrete(1001,start=-100) #Discrete action space "
   ]
  },
  {
   "cell_type": "code",
   "execution_count": 93,
   "id": "32f3c966",
   "metadata": {},
   "outputs": [
    {
     "data": {
      "text/plain": [
       "1001"
      ]
     },
     "execution_count": 93,
     "metadata": {},
     "output_type": "execute_result"
    }
   ],
   "source": [
    "action.n"
   ]
  },
  {
   "cell_type": "code",
   "execution_count": 11,
   "id": "29c6f851",
   "metadata": {},
   "outputs": [],
   "source": [
    "from tracemalloc import start\n",
    "from unicodedata import name\n",
    "import gym \n",
    "from gym import spaces \n",
    "from gym.utils import seeding \n",
    "import numpy as np \n",
    "from simulations import OptionSimulation\n",
    "\n",
    "\n",
    "class TradingEnv(gym.Env):\n",
    "    trading_days = 252 #Number of trading days in one year \n",
    "    num_of_shares = 100 #Vanilla options contract size\n",
    "    \n",
    "    def __init__(self,total_episodes=int,num_contracts=int,\n",
    "    multiplier=float,tick_size=float,kappa=float):\n",
    "        \n",
    "        \"\"\"\n",
    "        Trading Enviroment class with all the modules related \n",
    "        to performing trading under a controlled simulation environment.\n",
    "\n",
    "        Parameters:\n",
    "            num_simulations: The number of GBM and BS simulations to run for the agent to train on\n",
    "            num_contracts: The number of contracts the agent will hold.\n",
    "            multiplier: Float value required for the intensity of the bid-offer spread \n",
    "            tick_size: Used for computing the cost relative to the midpoint of the bid-offer spread\n",
    "            kappa: The risk factor of the portfolio\n",
    "        \"\"\"\n",
    "\n",
    "        self.total_episodes = total_episodes\n",
    "        self.num_contracts = num_contracts \n",
    "        self.multiplier = multiplier \n",
    "        self.tick_size = tick_size\n",
    "        self.kappa = kappa  \n",
    "\n",
    "        os = OptionSimulation(100,self.total_episodes) \n",
    "        \n",
    "        #can add a maturity term\n",
    "        self.sim_prices = os.GBM(50,0.1,time_increment=1)\n",
    "        self.days_to_expiry_normalized = os.ttm/self.trading_days #Only to be used for the calculation of BS call price\n",
    "        self.days_to_expiry = os.ttm #Creates an array of days left to expiry \n",
    "        self.option_price_path, self.option_delta_path = os.BS_call(self.days_to_expiry_normalized,self.sim_prices,100,0.01,0,0)\n",
    "        \n",
    "        #Action space (Discrete)\n",
    "        self.num_actions = self.num_contracts*self.num_of_shares #Number of actions \n",
    "        self.action_range = (self.num_actions * 2)+1 \n",
    "        self.action_space = spaces.Discrete(self.action_range,start=-self.num_actions) #Discrete action space \n",
    "\n",
    "        if self.num_contracts > 10:\n",
    "            raise ValueError(\"The maximum number of contracts in the simulation cannot be more than 10.\")\n",
    "\n",
    "    @classmethod\n",
    "    def change_base_params(cls,shares=None,days=None):\n",
    "        cls.num_of_shares = shares \n",
    "        cls.trading_days = days \n",
    "        print(f'Number of shares per contract changed to {cls.num_of_shares} shares\\n')\n",
    "        print(f'Number of trading days changed to {cls.trading_days} shares\\n')\n",
    "            \n",
    "\n",
    "    def _cost_of_trade(self,n):\n",
    "        #n: Number of shares \n",
    "        cost = self.multiplier * self.tick_size * (np.abs(n) * 0.01*n*n)\n",
    "        return cost \n",
    "\n",
    "    def _wealth_of_trade(self,pt,n):\n",
    "        #W_{t} = q_{t} - c_{t} (pt: Price of the stock at time 't')\n",
    "        ct = self._cost_of_trade(n)\n",
    "        wt = pt - ct \n",
    "        return wt \n",
    "\n",
    "    def reward(self, pt, n):\n",
    "        '''\n",
    "        Computes the reward given to the agent\n",
    "\n",
    "        Parameters:\n",
    "            pt: Price at time 't'\n",
    "            n: Number of shares at time 't'\n",
    "\n",
    "        Returns: \n",
    "            rwd: The reward value from the trade\n",
    "        '''\n",
    "        wt = self._wealth_of_trade(pt, n)\n",
    "        rwd = wt - (self.kappa*0.5)*(wt**2) \n",
    "        return rwd \n",
    "        print('GG')\n",
    "\n",
    "    def take_action(self,ttm,nt):\n",
    "        '''\n",
    "        Takes the next action according to the policy\n",
    "\n",
    "        Parameters: \n",
    "            ttm: Time remaining to option's maturity \n",
    "            nt: Number of shares held at time 't'\n",
    "        '''\n",
    "        return -100 * round(self.delta(ttm)) - nt    \n",
    "    \n",
    "    def reset(self, episode):\n",
    "        '''\n",
    "        Resets the environment in order to start a new episode for the simulation\n",
    "\n",
    "        Parameters:\n",
    "            path: The path the agent is following \n",
    "\n",
    "        Returns: \n",
    "            self.state: The state vector of the agent\n",
    "        '''\n",
    "        # repeatedly go through available simulated paths (if needed)\n",
    "        self.t = 0 #Time point within the time series \n",
    "        self.path = episode #The time series of reference \n",
    "        # _ttm_index = self.days_to_expiry[0]-1\n",
    "        ttm = self.days_to_expiry[0]\n",
    "\n",
    "        price =  round(self.sim_prices[self.path,self.t])\n",
    "        self.nt = self.num_of_shares #Number of shares at time 't'\n",
    "        # price_ttm = round(self.sim_prices[self.path,ttm])\n",
    "        \n",
    "        self.state = [price, ttm, self.nt]\n",
    "\n",
    "        return self.state\n",
    "    \n",
    "    def delta(self, ttm):\n",
    "        #Returns the option delta \n",
    "        delta = self.option_delta_path[self.path, ttm-1] #-1 due to Python indexing \n",
    "        return delta\n",
    "\n",
    "    def step(self,action):\n",
    "        '''\n",
    "        Step function to allow the agent to transition into the next state of the episode \n",
    "\n",
    "        Parameters: \n",
    "            action: The action the agent takes\n",
    "\n",
    "        Returns: \n",
    "            self.state: The state vector of the agent \n",
    "            R: The reward value \n",
    "            done: Boolean value of whether the episode is over or not\n",
    "        '''\n",
    "        self.t = self.t + 1 \n",
    "        price =  round(self.sim_prices[self.path,self.t],2)\n",
    "        self.nt = self.nt + action\n",
    "        ttm = self.days_to_expiry[self.t]\n",
    "        # price_ttm = round(self.sim_prices[self.path,ttm],2)\n",
    "        \n",
    "        reward = round(self.reward(price, self.nt)) \n",
    "        self.state = [price, ttm, self.nt]\n",
    "\n",
    "        if ttm == 0:\n",
    "            done = 1\n",
    "            return self.state, reward, done \n",
    "        else:\n",
    "            done = 0\n",
    "    \n",
    "        return self.state, reward, done \n",
    "        \n",
    "        # if ttm == 0 & self.path == (self.num_simulations):\n",
    "        #     done = 1 #1 = True \n",
    "        # elif ttm == 0:\n",
    "        #     episode = self.path\n",
    "        #     self.reset(episode)\n",
    "        #     done = 0 #0 = False \n",
    "        # else:\n",
    "        #     done = 0\n",
    "        return self.state, reward, done"
   ]
  },
  {
   "cell_type": "code",
   "execution_count": 12,
   "id": "7851f608",
   "metadata": {},
   "outputs": [],
   "source": [
    "env = TradingEnv(total_episodes=100,num_contracts=5,multiplier=1.0,\n",
    "    tick_size=0.1,kappa=0.1)"
   ]
  },
  {
   "cell_type": "code",
   "execution_count": 13,
   "id": "fc853ebe",
   "metadata": {},
   "outputs": [
    {
     "data": {
      "text/plain": [
       "array([50, 49, 48, 47, 46, 45, 44, 43, 42, 41, 40, 39, 38, 37, 36, 35, 34,\n",
       "       33, 32, 31, 30, 29, 28, 27, 26, 25, 24, 23, 22, 21, 20, 19, 18, 17,\n",
       "       16, 15, 14, 13, 12, 11, 10,  9,  8,  7,  6,  5,  4,  3,  2,  1,  0])"
      ]
     },
     "execution_count": 13,
     "metadata": {},
     "output_type": "execute_result"
    }
   ],
   "source": [
    "env.days_to_expiry"
   ]
  },
  {
   "cell_type": "code",
   "execution_count": 14,
   "id": "e0047492",
   "metadata": {},
   "outputs": [
    {
     "data": {
      "text/plain": [
       "(100, 51)"
      ]
     },
     "execution_count": 14,
     "metadata": {},
     "output_type": "execute_result"
    }
   ],
   "source": [
    "env.sim_prices.shape"
   ]
  },
  {
   "cell_type": "code",
   "execution_count": 15,
   "id": "694d1e52",
   "metadata": {},
   "outputs": [
    {
     "data": {
      "text/plain": [
       "array([50, 49, 48, 47, 46, 45, 44, 43, 42, 41, 40, 39, 38, 37, 36, 35, 34,\n",
       "       33, 32, 31, 30, 29, 28, 27, 26, 25, 24, 23, 22, 21, 20, 19, 18, 17,\n",
       "       16, 15, 14, 13, 12, 11, 10,  9,  8,  7,  6,  5,  4,  3,  2,  1,  0])"
      ]
     },
     "execution_count": 15,
     "metadata": {},
     "output_type": "execute_result"
    }
   ],
   "source": [
    "np.arange(50,-1,-1)"
   ]
  },
  {
   "cell_type": "code",
   "execution_count": 6,
   "id": "482bcb2e",
   "metadata": {},
   "outputs": [
    {
     "data": {
      "text/plain": [
       "[100, 50, 100]"
      ]
     },
     "execution_count": 6,
     "metadata": {},
     "output_type": "execute_result"
    }
   ],
   "source": [
    "env.reset(0)"
   ]
  },
  {
   "cell_type": "code",
   "execution_count": 7,
   "id": "fc584cd1",
   "metadata": {},
   "outputs": [],
   "source": [
    "# env.take_action(50,100)\n",
    "import numpy as np\n",
    "nums = [1,2,3]\n",
    "state = np.reshape(nums, [1,3])"
   ]
  },
  {
   "cell_type": "code",
   "execution_count": 8,
   "id": "52a81070",
   "metadata": {},
   "outputs": [
    {
     "data": {
      "text/plain": [
       "array([[1, 2, 3]])"
      ]
     },
     "execution_count": 8,
     "metadata": {},
     "output_type": "execute_result"
    }
   ],
   "source": [
    "state"
   ]
  },
  {
   "cell_type": "code",
   "execution_count": 19,
   "id": "d3a7fbf5",
   "metadata": {},
   "outputs": [
    {
     "name": "stdout",
     "output_type": "stream",
     "text": [
      "[101.21, 49, -100] -41290 0\n",
      "[101.04, 48, -100] -41305 0\n",
      "[101.2, 47, -100] -41291 0\n",
      "[101.54, 46, -100] -41260 0\n",
      "[102.08, 45, -100] -41211 0\n",
      "[102.13, 44, -100] -41206 0\n",
      "[102.13, 43, -100] -41206 0\n",
      "[104.31, 42, -100] -41009 0\n",
      "[106.28, 41, -100] -40830 0\n",
      "[105.45, 40, -100] -40906 0\n",
      "[108.23, 39, -100] -40654 0\n",
      "[108.71, 38, -100] -40611 0\n",
      "[108.68, 37, -100] -40614 0\n",
      "[109.76, 36, -100] -40517 0\n",
      "[110.1, 35, -100] -40486 0\n",
      "[111.24, 34, -100] -40383 0\n",
      "[111.01, 33, -100] -40404 0\n",
      "[110.96, 32, -100] -40409 0\n",
      "[111.35, 31, -100] -40374 0\n",
      "[110.09, 30, -100] -40487 0\n",
      "[108.89, 29, -100] -40595 0\n",
      "[109.35, 28, -100] -40554 0\n",
      "[108.1, 27, -100] -40666 0\n",
      "[107.43, 26, -100] -40727 0\n",
      "[107.9, 25, -100] -40684 0\n",
      "[106.7, 24, -100] -40793 0\n",
      "[106.76, 23, -100] -40787 0\n",
      "[107.17, 22, -100] -40750 0\n",
      "[108.4, 21, -100] -40639 0\n",
      "[109.86, 20, -100] -40508 0\n",
      "[109.92, 19, -100] -40502 0\n",
      "[109.44, 18, -100] -40545 0\n",
      "[109.69, 17, -100] -40523 0\n",
      "[110.43, 16, -100] -40456 0\n",
      "[110.84, 15, -100] -40419 0\n",
      "[110.31, 14, -100] -40467 0\n",
      "[112.58, 13, -100] -40263 0\n",
      "[112.04, 12, -100] -40312 0\n",
      "[112.35, 11, -100] -40284 0\n",
      "[111.5, 10, -100] -40360 0\n",
      "[112.53, 9, -100] -40268 0\n",
      "[111.47, 8, -100] -40363 0\n",
      "[110.34, 7, -100] -40464 0\n",
      "[111.73, 6, -100] -40339 0\n",
      "[113.48, 5, -100] -40182 0\n",
      "[113.25, 4, -100] -40203 0\n",
      "[113.37, 3, -100] -40192 0\n",
      "[111.52, 2, -100] -40358 0\n",
      "[109.49, 1, -100] -40541 0\n",
      "[0.0, 0, -100] -51000 1\n"
     ]
    }
   ],
   "source": [
    "# baseline policy\n",
    "\n",
    "state = env.reset(0)\n",
    "for _ in range(50):\n",
    "    pt, ttm, nt = state\n",
    "    # delta = (pt - pt_ttm)\n",
    "    #print(ttm)\n",
    "    #print(nt)\n",
    "    action = env.take_action(ttm, nt)\n",
    "    #print(action)\n",
    "    pervious_state = state\n",
    "    next_state, reward, done = env.step(action)\n",
    "    state = next_state \n",
    "    print(next_state, reward, done)"
   ]
  },
  {
   "cell_type": "code",
   "execution_count": 2,
   "id": "00148e12",
   "metadata": {},
   "outputs": [
    {
     "data": {
      "text/plain": [
       "array([[0., 0., 0.],\n",
       "       [0., 0., 0.],\n",
       "       [0., 0., 0.],\n",
       "       [0., 0., 0.],\n",
       "       [0., 0., 0.],\n",
       "       [0., 0., 0.],\n",
       "       [0., 0., 0.],\n",
       "       [0., 0., 0.],\n",
       "       [0., 0., 0.],\n",
       "       [0., 0., 0.],\n",
       "       [0., 0., 0.],\n",
       "       [0., 0., 0.],\n",
       "       [0., 0., 0.],\n",
       "       [0., 0., 0.],\n",
       "       [0., 0., 0.],\n",
       "       [0., 0., 0.],\n",
       "       [0., 0., 0.],\n",
       "       [0., 0., 0.],\n",
       "       [0., 0., 0.],\n",
       "       [0., 0., 0.],\n",
       "       [0., 0., 0.],\n",
       "       [0., 0., 0.],\n",
       "       [0., 0., 0.],\n",
       "       [0., 0., 0.],\n",
       "       [0., 0., 0.],\n",
       "       [0., 0., 0.],\n",
       "       [0., 0., 0.],\n",
       "       [0., 0., 0.],\n",
       "       [0., 0., 0.],\n",
       "       [0., 0., 0.],\n",
       "       [0., 0., 0.],\n",
       "       [0., 0., 0.],\n",
       "       [0., 0., 0.],\n",
       "       [0., 0., 0.],\n",
       "       [0., 0., 0.],\n",
       "       [0., 0., 0.],\n",
       "       [0., 0., 0.],\n",
       "       [0., 0., 0.],\n",
       "       [0., 0., 0.],\n",
       "       [0., 0., 0.],\n",
       "       [0., 0., 0.],\n",
       "       [0., 0., 0.],\n",
       "       [0., 0., 0.],\n",
       "       [0., 0., 0.],\n",
       "       [0., 0., 0.],\n",
       "       [0., 0., 0.],\n",
       "       [0., 0., 0.],\n",
       "       [0., 0., 0.],\n",
       "       [0., 0., 0.],\n",
       "       [0., 0., 0.],\n",
       "       [0., 0., 0.],\n",
       "       [0., 0., 0.],\n",
       "       [0., 0., 0.],\n",
       "       [0., 0., 0.],\n",
       "       [0., 0., 0.],\n",
       "       [0., 0., 0.],\n",
       "       [0., 0., 0.],\n",
       "       [0., 0., 0.],\n",
       "       [0., 0., 0.],\n",
       "       [0., 0., 0.],\n",
       "       [0., 0., 0.],\n",
       "       [0., 0., 0.],\n",
       "       [0., 0., 0.],\n",
       "       [0., 0., 0.]])"
      ]
     },
     "execution_count": 2,
     "metadata": {},
     "output_type": "execute_result"
    }
   ],
   "source": [
    "import numpy as np\n",
    "\n",
    "np.zeros((64,3))"
   ]
  }
 ],
 "metadata": {
  "kernelspec": {
   "display_name": "Python 3",
   "language": "python",
   "name": "python3"
  },
  "language_info": {
   "codemirror_mode": {
    "name": "ipython",
    "version": 3
   },
   "file_extension": ".py",
   "mimetype": "text/x-python",
   "name": "python",
   "nbconvert_exporter": "python",
   "pygments_lexer": "ipython3",
   "version": "3.7.11"
  }
 },
 "nbformat": 4,
 "nbformat_minor": 5
}
