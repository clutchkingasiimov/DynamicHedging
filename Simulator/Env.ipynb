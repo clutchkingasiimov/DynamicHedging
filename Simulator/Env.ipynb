{
 "cells": [
  {
   "cell_type": "markdown",
   "id": "e7ef1693",
   "metadata": {},
   "source": [
    "#try the environment with state, action and reward"
   ]
  },
  {
   "cell_type": "code",
   "execution_count": 1,
   "id": "88e06b01",
   "metadata": {},
   "outputs": [
    {
     "name": "stdout",
     "output_type": "stream",
     "text": [
      "Requirement already satisfied: gym in c:\\anaconda\\new folder\\lib\\site-packages (0.23.0)\n",
      "Requirement already satisfied: numpy>=1.18.0 in c:\\anaconda\\new folder\\lib\\site-packages (from gym) (1.20.1)\n",
      "Requirement already satisfied: cloudpickle>=1.2.0 in c:\\anaconda\\new folder\\lib\\site-packages (from gym) (1.6.0)\n",
      "Requirement already satisfied: importlib-metadata>=4.10.0 in c:\\anaconda\\new folder\\lib\\site-packages (from gym) (4.10.0)\n",
      "Requirement already satisfied: gym-notices>=0.0.4 in c:\\anaconda\\new folder\\lib\\site-packages (from gym) (0.0.6)\n",
      "Requirement already satisfied: zipp>=0.5 in c:\\anaconda\\new folder\\lib\\site-packages (from importlib-metadata>=4.10.0->gym) (3.4.1)\n"
     ]
    }
   ],
   "source": [
    "!pip install gym"
   ]
  },
  {
   "cell_type": "code",
   "execution_count": 1,
   "id": "984a364a",
   "metadata": {
    "scrolled": true
   },
   "outputs": [
    {
     "name": "stderr",
     "output_type": "stream",
     "text": [
      "\n"
     ]
    }
   ],
   "source": [
    "import gym\n",
    "from gym import spaces\n",
    "from gym.utils import seeding\n",
    "from scipy.stats import norm\n",
    "import numpy as np"
   ]
  },
  {
   "cell_type": "code",
   "execution_count": 6,
   "id": "25592dc2",
   "metadata": {},
   "outputs": [
    {
     "data": {
      "text/plain": [
       "2"
      ]
     },
     "execution_count": 6,
     "metadata": {},
     "output_type": "execute_result"
    }
   ],
   "source": [
    "numbers = [1,2,3,4,5,6,7,8,9,10]\n",
    "np.random.choice(numbers)"
   ]
  },
  {
   "cell_type": "code",
   "execution_count": 3,
   "id": "62aad3df",
   "metadata": {},
   "outputs": [
    {
     "data": {
      "text/plain": [
       "456"
      ]
     },
     "execution_count": 3,
     "metadata": {},
     "output_type": "execute_result"
    }
   ],
   "source": [
    "actions = spaces.Discrete(1001, start=-500)\n",
    "actions.sample()"
   ]
  },
  {
   "cell_type": "code",
   "execution_count": 5,
   "id": "4d7b12ef",
   "metadata": {},
   "outputs": [],
   "source": [
    "def brownian_sim(num_path, num_period, mu, std, init_p, dt):\n",
    "    z = np.random.normal(size=(num_path, num_period))\n",
    "\n",
    "    a_price = np.zeros((num_path, num_period))\n",
    "    a_price[:, 0] = init_p\n",
    "\n",
    "    for t in range(num_period - 1):\n",
    "        a_price[:, t + 1] = a_price[:, t] * np.exp(\n",
    "            (mu - (std ** 2) / 2) * dt + std * np.sqrt(dt) * z[:, t]\n",
    "        )\n",
    "    return a_price"
   ]
  },
  {
   "cell_type": "code",
   "execution_count": 6,
   "id": "8a883919",
   "metadata": {},
   "outputs": [],
   "source": [
    "def bs_call(iv, T, S, K, r, q):\n",
    "    \n",
    "    d1 = (np.log(S / K) + (r - q + iv * iv / 2) * T) / (iv * np.sqrt(T))\n",
    "    d2 = d1 - iv * np.sqrt(T)\n",
    "    \n",
    "    bs_price = S * np.exp(-q * T) * norm.cdf(d1) - K * np.exp(-r * T) * norm.cdf(d2)\n",
    "    \n",
    "    bs_delta = np.exp(-q * T) * norm.cdf(d1)\n",
    "    \n",
    "    return bs_price, bs_delta"
   ]
  },
  {
   "cell_type": "code",
   "execution_count": 7,
   "id": "526d76c5",
   "metadata": {},
   "outputs": [],
   "source": [
    "def get_sim_path(M, freq, np_seed, num_sim):\n",
    "    \"\"\" Return simulated data: a tuple of three arrays\n",
    "        M: initial time to maturity\n",
    "        freq: trading freq in unit of day, e.g. freq=2: every 2 day; freq=0.5 twice a day;\n",
    "        np_seed: numpy random seed\n",
    "        num_sim: number of simulation path\n",
    "        1) asset price paths (num_path x num_period)\n",
    "        2) option price paths (num_path x num_period)\n",
    "        3) delta (num_path x num_period)\n",
    "    \"\"\"\n",
    "    # set the np random seed\n",
    "    np.random.seed(np_seed)\n",
    "\n",
    "    # Trading Freq per day; passed from function parameter\n",
    "    # freq = 2\n",
    "\n",
    "    # Annual Trading Day\n",
    "    T = 252\n",
    "\n",
    "    # Simulation Time Step\n",
    "    dt = 0.004 * freq\n",
    "\n",
    "    # Option Day to Maturity; passed from function parameter\n",
    "    # M = 60\n",
    "\n",
    "    # Number of period\n",
    "    num_period = int(M / freq)\n",
    "\n",
    "    # Number of simulations; passed from function parameter\n",
    "    # num_sim = 1000000\n",
    "\n",
    "    # Annual Return\n",
    "    mu = 0.05\n",
    "    \n",
    "    # Annual Volatility\n",
    "    vol = 0.2\n",
    "    \n",
    "    # Initial Asset Value\n",
    "    S = 100\n",
    "\n",
    "    # Option Strike Price\n",
    "    K = 100\n",
    "\n",
    "    # Annual Risk Free Rate\n",
    "    r = 0\n",
    "\n",
    "    # Annual Dividend\n",
    "    q = 0\n",
    "\n",
    "    # asset price 2-d array\n",
    "    print(\"1. generate asset price paths\")\n",
    "    a_price = brownian_sim(num_sim, num_period + 1, mu, vol, S, dt)\n",
    "\n",
    "    # time to maturity \"rank 1\" array: e.g. [M, M-1, ..., 0]\n",
    "    ttm = np.arange(M, -freq, -freq)\n",
    "\n",
    "    # BS price 2-d array and bs delta 2-d array\n",
    "    print(\"2. generate BS price and delta\")\n",
    "    bs_price, bs_delta = bs_call(vol, ttm/T, a_price, K, r, q)\n",
    "\n",
    "    print(\"simulation done!\")\n",
    "\n",
    "    return a_price, bs_price, bs_delta, ttm"
   ]
  },
  {
   "cell_type": "code",
   "execution_count": 36,
   "id": "b5093e06",
   "metadata": {},
   "outputs": [],
   "source": [
    "class TradingEnv(gym.Env):\n",
    "    \"\"\"\n",
    "    trading environment;\n",
    "    \"\"\"\n",
    "\n",
    "    # trade_freq in unit of day, e.g 2: every 2 day; 0.5 twice a day;\n",
    "    def __init__(self, cash_flow_flag=0, dg_random_seed=1, num_sim=500002, sabr_flag = False,\n",
    "        continuous_action_flag=False, spread=0, init_ttm=250, trade_freq=1, num_contract=1):\n",
    "\n",
    "        # simulated data: array of asset price, option price and delta paths (num_path x num_period)\n",
    "        # generate data now\n",
    "\n",
    "        self.path, self.option_price_path, self.delta_path,ttm = get_sim_path(M=init_ttm, freq=trade_freq, np_seed=dg_random_seed, \n",
    "                                                                          num_sim=num_sim)\n",
    "        \n",
    "        # other attributes\n",
    "        self.num_path = self.path.shape[0]\n",
    "\n",
    "        # set num_period: initial time to maturity * daily trading freq + 1 (see get_sim_path() in utils.py)\n",
    "        self.num_period = self.path.shape[1]\n",
    "        # print(\"***\", self.num_period)\n",
    "\n",
    "        # time to maturity array\n",
    "        self.ttm_array = np.arange(init_ttm, -trade_freq, -trade_freq)\n",
    "        # print(self.ttm_array)\n",
    "\n",
    "        # spread\n",
    "        self.spread = spread\n",
    "\n",
    "        # step function initialization depending on cash_flow_flag\n",
    "        if cash_flow_flag == 1:\n",
    "            self.step = self.step_cash_flow\n",
    "        else:\n",
    "            self.step = self.step_profit_loss\n",
    "\n",
    "        self.num_contract = num_contract\n",
    "        self.strike_price = 100\n",
    "\n",
    "        # track the index of simulated path in use\n",
    "        self.sim_episode = -1\n",
    "\n",
    "        # track time step within an episode (it's step)\n",
    "        self.t = None\n",
    "        self.num_action = num_contract * 100 + 1\n",
    "        self.action_space = spaces.Discrete(self.num_action)\n",
    "\n",
    "        self.num_state = 3\n",
    "\n",
    "        self.state = []\n",
    "\n",
    "        # seed and start\n",
    "        self.seed()\n",
    "        # self.reset()\n",
    "\n",
    "    def seed(self, seed=None):\n",
    "        self.np_random, seed = seeding.np_random(seed)\n",
    "        return [seed]\n",
    "\n",
    "    def reset(self):\n",
    "        # repeatedly go through available simulated paths (if needed)\n",
    "        self.sim_episode = (self.sim_episode + 1) % self.num_path\n",
    "\n",
    "        self.t = 0\n",
    "\n",
    "        price = self.path[self.sim_episode, self.t]\n",
    "        position = 0\n",
    "\n",
    "        ttm = self.ttm_array[self.t]\n",
    "\n",
    "        self.state = [price, position, ttm]\n",
    "\n",
    "        return self.state\n",
    "    \"\"\"\n",
    "    def step_cash_flow(self, action):\n",
    "\n",
    "        #cash flow period reward\n",
    "\n",
    "\n",
    "        # do it consistently as in the profit & loss case\n",
    "        # current prices (at t)\n",
    "        current_price = self.state[0]\n",
    "\n",
    "        # current position\n",
    "        current_position = self.state[1]\n",
    "\n",
    "        # update time/period\n",
    "        self.t = self.t + 1\n",
    "\n",
    "        # get state for tomorrow\n",
    "        price = self.path[self.sim_episode, self.t]\n",
    "        position = action\n",
    "        ttm = self.ttm_array[self.t]\n",
    "\n",
    "        self.state = [price, position, ttm]\n",
    "\n",
    "        # calculate period reward (part 1)\n",
    "        cash_flow = -(position - current_position) * current_price - np.abs(position - current_position) * current_price * self.spread\n",
    "\n",
    "        # if tomorrow is end of episode\n",
    "        if self.t == self.num_period - 1:\n",
    "            done = True\n",
    "            # add (stock payoff + option payoff) to cash flow\n",
    "            reward = cash_flow + price * position - max(price - self.strike_price, 0) * self.num_contract * 100 - position * price * self.spread\n",
    "        else:\n",
    "            done = False\n",
    "            reward = cash_flow\n",
    "\n",
    "        # for other info\n",
    "        info = {\"path_row\": self.sim_episode}\n",
    "\n",
    "        return self.state, reward, done, info\n",
    "        \"\"\"\n",
    "        \n",
    "    def step_profit_loss(self, action):\n",
    "        \"\"\"\n",
    "        profit loss period reward\n",
    "        \"\"\"\n",
    "\n",
    "        # current prices (at t)\n",
    "        current_price = self.state[0]\n",
    "        current_option_price = self.option_price_path[self.sim_episode, self.t]\n",
    "\n",
    "        # current position\n",
    "        current_position = self.state[1]\n",
    "\n",
    "        # update time\n",
    "        self.t = self.t + 1\n",
    "\n",
    "        # get state for tomorrow (at t + 1)\n",
    "        price = self.path[self.sim_episode, self.t]\n",
    "        option_price = self.option_price_path[self.sim_episode, self.t]\n",
    "        position = action\n",
    "        ttm = self.ttm_array[self.t]\n",
    "\n",
    "        self.state = [price, position, ttm]\n",
    "\n",
    "        # calculate period reward (part 1)\n",
    "        reward = (price - current_price) * position - np.abs(current_position - position) * current_price * self.spread\n",
    "\n",
    "        # if tomorrow is end of episode\n",
    "        if self.t == self.num_period - 1:\n",
    "            done = True\n",
    "            reward = reward - (max(price - self.strike_price, 0) - current_option_price) * self.num_contract * 100 - position * price * self.spread\n",
    "        else:\n",
    "            done = False\n",
    "            reward = reward - (option_price - current_option_price) * self.num_contract * 100\n",
    "\n",
    "        # for other info later\n",
    "        info = {\"path_row\": self.sim_episode}\n",
    "\n",
    "        return self.state, reward, done, info"
   ]
  },
  {
   "cell_type": "code",
   "execution_count": 37,
   "id": "6a4f68e4",
   "metadata": {},
   "outputs": [
    {
     "name": "stdout",
     "output_type": "stream",
     "text": [
      "1. generate asset price paths\n",
      "2. generate BS price and delta\n"
     ]
    },
    {
     "name": "stderr",
     "output_type": "stream",
     "text": [
      "<ipython-input-6-932fe43afca2>:3: RuntimeWarning: divide by zero encountered in true_divide\n",
      "  d1 = (np.log(S / K) + (r - q + iv * iv / 2) * T) / (iv * np.sqrt(T))\n"
     ]
    },
    {
     "name": "stdout",
     "output_type": "stream",
     "text": [
      "simulation done!\n"
     ]
    }
   ],
   "source": [
    "env = TradingEnv()"
   ]
  },
  {
   "cell_type": "code",
   "execution_count": 38,
   "id": "0e8de471",
   "metadata": {},
   "outputs": [
    {
     "data": {
      "text/plain": [
       "[100.0, 0, 250]"
      ]
     },
     "execution_count": 38,
     "metadata": {},
     "output_type": "execute_result"
    }
   ],
   "source": [
    "state = env.reset()\n",
    "state"
   ]
  },
  {
   "cell_type": "code",
   "execution_count": 39,
   "id": "f6852dba",
   "metadata": {},
   "outputs": [
    {
     "data": {
      "text/plain": [
       "Discrete(101)"
      ]
     },
     "execution_count": 39,
     "metadata": {},
     "output_type": "execute_result"
    }
   ],
   "source": [
    "env.action_space"
   ]
  },
  {
   "cell_type": "code",
   "execution_count": 40,
   "id": "3a9df269",
   "metadata": {},
   "outputs": [
    {
     "name": "stdout",
     "output_type": "stream",
     "text": [
      "[99.72039986618978, 0, 249] 16.591967900330218 False\n",
      "[96.27033536207469, 0, 248] 173.65835188895247 False\n",
      "[98.670719781044, 0, 247] -115.56809723793364 False\n",
      "[99.14089476879796, 0, 246] -22.738664728178293 False\n",
      "[97.85129136915992, 0, 245] 67.1852630534076 False\n",
      "[100.43536748499419, 0, 244] -133.24672487404783 False\n",
      "[101.1943084289984, 0, 243] -40.551216504845655 False\n",
      "[101.75781610404461, 0, 242] -30.42692043510442 False\n",
      "[100.99163061626672, 0, 241] 45.02477697334797 False\n",
      "[101.13955251305859, 0, 240] -6.670321541521673 False\n"
     ]
    }
   ],
   "source": [
    "state = env.reset()\n",
    "for i in range(10):\n",
    "    # write a function for action like Q-learning or Monte-Carlo\n",
    "    pervious_state = state\n",
    "    next_state, reward, done, info = env.step_profit_loss(action)\n",
    "    state = next_state\n",
    "    print(next_state, reward, done)"
   ]
  },
  {
   "cell_type": "code",
   "execution_count": null,
   "id": "c5bf1378",
   "metadata": {},
   "outputs": [],
   "source": []
  }
 ],
 "metadata": {
  "kernelspec": {
   "display_name": "Python 3",
   "language": "python",
   "name": "python3"
  },
  "language_info": {
   "codemirror_mode": {
    "name": "ipython",
    "version": 3
   },
   "file_extension": ".py",
   "mimetype": "text/x-python",
   "name": "python",
   "nbconvert_exporter": "python",
   "pygments_lexer": "ipython3",
   "version": "3.7.11"
  }
 },
 "nbformat": 4,
 "nbformat_minor": 5
}
