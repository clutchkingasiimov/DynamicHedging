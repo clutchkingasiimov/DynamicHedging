{
 "cells": [
  {
   "cell_type": "markdown",
   "id": "e7ef1693",
   "metadata": {},
   "source": [
    "#try the environment with state, action and reward"
   ]
  },
  {
   "cell_type": "code",
   "execution_count": 1,
   "id": "88e06b01",
   "metadata": {},
   "outputs": [
    {
     "name": "stdout",
     "output_type": "stream",
     "text": [
      "Requirement already satisfied: gym in c:\\anaconda\\new folder\\lib\\site-packages (0.23.0)\n",
      "Requirement already satisfied: numpy>=1.18.0 in c:\\anaconda\\new folder\\lib\\site-packages (from gym) (1.20.1)\n",
      "Requirement already satisfied: cloudpickle>=1.2.0 in c:\\anaconda\\new folder\\lib\\site-packages (from gym) (1.6.0)\n",
      "Requirement already satisfied: importlib-metadata>=4.10.0 in c:\\anaconda\\new folder\\lib\\site-packages (from gym) (4.10.0)\n",
      "Requirement already satisfied: gym-notices>=0.0.4 in c:\\anaconda\\new folder\\lib\\site-packages (from gym) (0.0.6)\n",
      "Requirement already satisfied: zipp>=0.5 in c:\\anaconda\\new folder\\lib\\site-packages (from importlib-metadata>=4.10.0->gym) (3.4.1)\n"
     ]
    }
   ],
   "source": [
    "!pip install gym"
   ]
  },
  {
   "cell_type": "code",
   "execution_count": 1,
   "id": "984a364a",
   "metadata": {
    "scrolled": true
   },
   "outputs": [
    {
     "name": "stderr",
     "output_type": "stream",
     "text": [
      "\n"
     ]
    }
   ],
   "source": [
    "import gym\n",
    "from gym import spaces\n",
    "from gym.utils import seeding\n",
    "from scipy.stats import norm\n",
    "import numpy as np"
   ]
  },
  {
   "cell_type": "code",
   "execution_count": 2,
   "id": "25592dc2",
   "metadata": {},
   "outputs": [
    {
     "data": {
      "text/plain": [
       "4"
      ]
     },
     "execution_count": 2,
     "metadata": {},
     "output_type": "execute_result"
    }
   ],
   "source": [
    "numbers = [1,2,3,4,5,6,7,8,9,10]\n",
    "np.random.choice(numbers)"
   ]
  },
  {
   "cell_type": "code",
   "execution_count": 3,
   "id": "62aad3df",
   "metadata": {},
   "outputs": [
    {
     "data": {
      "text/plain": [
       "226"
      ]
     },
     "execution_count": 3,
     "metadata": {},
     "output_type": "execute_result"
    }
   ],
   "source": [
    "actions = spaces.Discrete(1001, start=-500)\n",
    "actions.sample()"
   ]
  },
  {
   "cell_type": "code",
   "execution_count": 4,
   "id": "4d7b12ef",
   "metadata": {},
   "outputs": [],
   "source": [
    "def brownian_sim(num_path, num_period, mu, std, init_p, dt):\n",
    "    z = np.random.normal(size=(num_path, num_period))\n",
    "\n",
    "    a_price = np.zeros((num_path, num_period))\n",
    "    a_price[:, 0] = init_p\n",
    "\n",
    "    for t in range(num_period - 1):\n",
    "        a_price[:, t + 1] = a_price[:, t] * np.exp(\n",
    "            (mu - (std ** 2) / 2) * dt + std * np.sqrt(dt) * z[:, t]\n",
    "        )\n",
    "    return a_price"
   ]
  },
  {
   "cell_type": "code",
   "execution_count": 5,
   "id": "8a883919",
   "metadata": {},
   "outputs": [],
   "source": [
    "def bs_call(iv, T, S, K, r, q):\n",
    "    \n",
    "    d1 = (np.log(S / K) + (r - q + iv * iv / 2) * T) / (iv * np.sqrt(T))\n",
    "    d2 = d1 - iv * np.sqrt(T)\n",
    "    \n",
    "    bs_price = S * np.exp(-q * T) * norm.cdf(d1) - K * np.exp(-r * T) * norm.cdf(d2)\n",
    "    \n",
    "    bs_delta = np.exp(-q * T) * norm.cdf(d1)\n",
    "    \n",
    "    return bs_price, bs_delta"
   ]
  },
  {
   "cell_type": "code",
   "execution_count": 20,
   "id": "526d76c5",
   "metadata": {},
   "outputs": [],
   "source": [
    "def get_sim_path(M, freq, np_seed, num_sim):\n",
    "    \"\"\" Return simulated data: a tuple of three arrays\n",
    "        M: initial time to maturity\n",
    "        freq: trading freq in unit of day, e.g. freq=2: every 2 day; freq=0.5 twice a day;\n",
    "        np_seed: numpy random seed\n",
    "        num_sim: number of simulation path\n",
    "        1) asset price paths (num_path x num_period)\n",
    "        2) option price paths (num_path x num_period)\n",
    "        3) delta (num_path x num_period)\n",
    "    \"\"\"\n",
    "    # set the np random seed\n",
    "    np.random.seed(np_seed)\n",
    "\n",
    "    # Trading Freq per day; passed from function parameter\n",
    "    # freq = 2\n",
    "\n",
    "    # Annual Trading Day\n",
    "    T = 252\n",
    "\n",
    "    # Simulation Time Step\n",
    "    dt = 0.004 * freq\n",
    "\n",
    "    # Option Day to Maturity; passed from function parameter\n",
    "    # M = 60\n",
    "\n",
    "    # Number of period\n",
    "    num_period = int(M / freq)\n",
    "\n",
    "    # Number of simulations; passed from function parameter\n",
    "    # num_sim = 1000000\n",
    "\n",
    "    # Annual Return\n",
    "    mu = 0.05\n",
    "    \n",
    "    # Annual Volatility\n",
    "    vol = 0.2\n",
    "    \n",
    "    # Initial Asset Value\n",
    "    S = 100\n",
    "\n",
    "    # Option Strike Price\n",
    "    K = 100\n",
    "\n",
    "    # Annual Risk Free Rate\n",
    "    r = 0\n",
    "\n",
    "    # Annual Dividend\n",
    "    q = 0\n",
    "\n",
    "    # asset price 2-d array\n",
    "    print(\"1. generate asset price paths\")\n",
    "    a_price = brownian_sim(num_sim, num_period + 1, mu, vol, S, dt)\n",
    "\n",
    "    # time to maturity \"rank 1\" array: e.g. [M, M-1, ..., 0]\n",
    "    ttm = np.arange(M, -freq, -freq)\n",
    "\n",
    "    # BS price 2-d array and bs delta 2-d array\n",
    "    print(\"2. generate BS price and delta\")\n",
    "    bs_price, bs_delta = bs_call(vol, ttm/T, a_price, K, r, q)\n",
    "\n",
    "    print(\"simulation done!\")\n",
    "\n",
    "    return a_price, bs_price, bs_delta, ttm"
   ]
  },
  {
   "cell_type": "code",
   "execution_count": 31,
   "id": "dfc302b5",
   "metadata": {},
   "outputs": [
    {
     "name": "stdout",
     "output_type": "stream",
     "text": [
      "1. generate asset price paths\n",
      "2. generate BS price and delta\n",
      "simulation done!\n"
     ]
    },
    {
     "name": "stderr",
     "output_type": "stream",
     "text": [
      "/home/sauraj/anaconda3/lib/python3.7/site-packages/ipykernel_launcher.py:3: RuntimeWarning: divide by zero encountered in true_divide\n",
      "  This is separate from the ipykernel package so we can avoid doing imports until\n"
     ]
    }
   ],
   "source": [
    "a_price, bs_price, _, ttm = get_sim_path(50,1,1,10)"
   ]
  },
  {
   "cell_type": "code",
   "execution_count": 40,
   "id": "cdb55c93",
   "metadata": {},
   "outputs": [
    {
     "data": {
      "text/plain": [
       "51"
      ]
     },
     "execution_count": 40,
     "metadata": {},
     "output_type": "execute_result"
    }
   ],
   "source": [
    "len(ttm)"
   ]
  },
  {
   "cell_type": "code",
   "execution_count": 38,
   "id": "8f11ecaa",
   "metadata": {},
   "outputs": [
    {
     "data": {
      "text/plain": [
       "[<matplotlib.lines.Line2D at 0x7f2e9a8fda50>]"
      ]
     },
     "execution_count": 38,
     "metadata": {},
     "output_type": "execute_result"
    },
    {
     "data": {
      "image/png": "[encoded data removed]",
      "text/plain": [
       "<Figure size 432x288 with 1 Axes>"
      ]
     },
     "metadata": {
      "needs_background": "light"
     },
     "output_type": "display_data"
    }
   ],
   "source": [
    "import matplotlib.pyplot as plt\n",
    "plt.plot(bs_price[2])"
   ]
  },
  {
   "cell_type": "code",
   "execution_count": 42,
   "id": "b5093e06",
   "metadata": {},
   "outputs": [],
   "source": [
    "class TradingEnv(gym.Env):\n",
    "    \"\"\"\n",
    "    trading environment;\n",
    "    \"\"\"\n",
    "\n",
    "    # trade_freq in unit of day, e.g 2: every 2 day; 0.5 twice a day;\n",
    "    def __init__(self, cash_flow_flag=0, dg_random_seed=1, num_sim=50, sabr_flag = False,\n",
    "        continuous_action_flag=False, spread=0, init_ttm=50, trade_freq=1, num_contract=1):\n",
    "\n",
    "        # simulated data: array of asset price, option price and delta paths (num_path x num_period)\n",
    "        # generate data now\n",
    "\n",
    "        self.path, self.option_price_path, self.delta_path,ttm = get_sim_path(M=init_ttm, freq=trade_freq, np_seed=dg_random_seed, \n",
    "                                                                          num_sim=num_sim)\n",
    "        \n",
    "        # other attributes\n",
    "        self.num_path = self.path.shape[0]\n",
    "\n",
    "        # set num_period: initial time to maturity * daily trading freq + 1 (see get_sim_path() in utils.py)\n",
    "        self.num_period = self.path.shape[1]\n",
    "        # print(\"***\", self.num_period)\n",
    "\n",
    "        # time to maturity array\n",
    "        self.ttm_array = np.arange(init_ttm, -trade_freq, -trade_freq)\n",
    "        # print(self.ttm_array)\n",
    "\n",
    "        # spread\n",
    "        self.spread = spread\n",
    "\n",
    "        # step function initialization depending on cash_flow_flag\n",
    "        if cash_flow_flag == 1:\n",
    "            self.step = self.step_cash_flow\n",
    "        else:\n",
    "            self.step = self.step_profit_loss\n",
    "\n",
    "        self.num_contract = num_contract\n",
    "        self.strike_price = 100\n",
    "\n",
    "        # track the index of simulated path in use\n",
    "        self.sim_episode = -1\n",
    "\n",
    "        # track time step within an episode (it's step)\n",
    "        self.t = None\n",
    "        self.num_action = num_contract * 100 + 1\n",
    "        self.action_space = spaces.Discrete(self.num_action)\n",
    "\n",
    "        self.num_state = 3\n",
    "\n",
    "        self.state = []\n",
    "\n",
    "        # seed and start\n",
    "        self.seed()\n",
    "        # self.reset()\n",
    "\n",
    "    def seed(self, seed=None):\n",
    "        self.np_random, seed = seeding.np_random(seed)\n",
    "        return [seed]\n",
    "\n",
    "    def reset(self):\n",
    "        # repeatedly go through available simulated paths (if needed)\n",
    "        self.sim_episode = (self.sim_episode + 1) % self.num_path\n",
    "\n",
    "        self.t = 0\n",
    "\n",
    "        price = self.path[self.sim_episode, self.t]\n",
    "        position = 0\n",
    "\n",
    "        ttm = self.ttm_array[self.t]\n",
    "\n",
    "        self.state = [price, position, ttm]\n",
    "\n",
    "        return self.state\n",
    "    \"\"\"\n",
    "    def step_cash_flow(self, action):\n",
    "\n",
    "        #cash flow period reward\n",
    "\n",
    "\n",
    "        # do it consistently as in the profit & loss case\n",
    "        # current prices (at t)\n",
    "        current_price = self.state[0]\n",
    "\n",
    "        # current position\n",
    "        current_position = self.state[1]\n",
    "\n",
    "        # update time/period\n",
    "        self.t = self.t + 1\n",
    "\n",
    "        # get state for tomorrow\n",
    "        price = self.path[self.sim_episode, self.t]\n",
    "        position = action\n",
    "        ttm = self.ttm_array[self.t]\n",
    "\n",
    "        self.state = [price, position, ttm]\n",
    "\n",
    "        # calculate period reward (part 1)\n",
    "        cash_flow = -(position - current_position) * current_price - np.abs(position - current_position) * current_price * self.spread\n",
    "\n",
    "        # if tomorrow is end of episode\n",
    "        if self.t == self.num_period - 1:\n",
    "            done = True\n",
    "            # add (stock payoff + option payoff) to cash flow\n",
    "            reward = cash_flow + price * position - max(price - self.strike_price, 0) * self.num_contract * 100 - position * price * self.spread\n",
    "        else:\n",
    "            done = False\n",
    "            reward = cash_flow\n",
    "\n",
    "        # for other info\n",
    "        info = {\"path_row\": self.sim_episode}\n",
    "\n",
    "        return self.state, reward, done, info\n",
    "        \"\"\"\n",
    "        \n",
    "    def step_profit_loss(self, action):\n",
    "        \"\"\"\n",
    "        profit loss period reward\n",
    "        \"\"\"\n",
    "\n",
    "        # current prices (at t)\n",
    "        current_price = self.state[0]\n",
    "        current_option_price = self.option_price_path[self.sim_episode, self.t]\n",
    "\n",
    "        # current position\n",
    "        current_position = self.state[1]\n",
    "\n",
    "        # update time\n",
    "        self.t = self.t + 1\n",
    "\n",
    "        # get state for tomorrow (at t + 1)\n",
    "        price = self.path[self.sim_episode, self.t]\n",
    "        option_price = self.option_price_path[self.sim_episode, self.t]\n",
    "        position = action\n",
    "        ttm = self.ttm_array[self.t]\n",
    "\n",
    "        self.state = [price, position, ttm]\n",
    "\n",
    "        # calculate period reward (part 1)\n",
    "        reward = (price - current_price) * position - np.abs(current_position - position) * current_price * self.spread\n",
    "\n",
    "        # if tomorrow is end of episode\n",
    "        if self.t == self.num_period - 1:\n",
    "            done = True\n",
    "            reward = reward - (max(price - self.strike_price, 0) - current_option_price) * self.num_contract * 100 - position * price * self.spread\n",
    "        else:\n",
    "            done = False\n",
    "            reward = reward - (option_price - current_option_price) * self.num_contract * 100\n",
    "\n",
    "        # for other info later\n",
    "        info = {\"path_row\": self.sim_episode}\n",
    "\n",
    "        return self.state, reward, done, info"
   ]
  },
  {
   "cell_type": "code",
   "execution_count": 43,
   "id": "6a4f68e4",
   "metadata": {},
   "outputs": [
    {
     "name": "stdout",
     "output_type": "stream",
     "text": [
      "1. generate asset price paths\n",
      "2. generate BS price and delta\n",
      "simulation done!\n"
     ]
    },
    {
     "name": "stderr",
     "output_type": "stream",
     "text": [
      "/home/sauraj/anaconda3/lib/python3.7/site-packages/ipykernel_launcher.py:3: RuntimeWarning: divide by zero encountered in true_divide\n",
      "  This is separate from the ipykernel package so we can avoid doing imports until\n"
     ]
    }
   ],
   "source": [
    "env = TradingEnv()"
   ]
  },
  {
   "cell_type": "code",
   "execution_count": 44,
   "id": "0e8de471",
   "metadata": {},
   "outputs": [
    {
     "data": {
      "text/plain": [
       "[100.0, 0, 50]"
      ]
     },
     "execution_count": 44,
     "metadata": {},
     "output_type": "execute_result"
    }
   ],
   "source": [
    "state = env.reset()\n",
    "state"
   ]
  },
  {
   "cell_type": "code",
   "execution_count": 45,
   "id": "f6852dba",
   "metadata": {},
   "outputs": [
    {
     "data": {
      "text/plain": [
       "Discrete(101)"
      ]
     },
     "execution_count": 45,
     "metadata": {},
     "output_type": "execute_result"
    }
   ],
   "source": [
    "env.action_space"
   ]
  },
  {
   "cell_type": "code",
   "execution_count": 48,
   "id": "3a9df269",
   "metadata": {},
   "outputs": [
    {
     "name": "stdout",
     "output_type": "stream",
     "text": [
      "[102.81729040833784, 10, 49] -131.61915771460116 False\n",
      "[103.40531894147671, 10, 48] -29.065820179336157 False\n",
      "[103.28679398450562, 10, 47] 10.127428666302478 False\n",
      "[103.12105835396459, 10, 46] 12.76319686507378 False\n",
      "[102.97823881925969, 10, 45] 11.46111711722682 False\n",
      "[103.01327936988116, 10, 44] 1.6539854198096293 False\n",
      "[101.57377348175976, 10, 43] 79.01705241817027 False\n",
      "[100.92367941014557, 10, 42] 34.78420292016011 False\n",
      "[99.67083226350411, 10, 41] 57.84808503517041 False\n",
      "[99.99699817173395, 10, 40] -9.35747399428223 False\n",
      "[99.63444324251165, 10, 39] 18.727510907597633 False\n",
      "[100.27254245725955, 10, 38] -22.32369739368309 False\n",
      "[100.06320774173136, 10, 37] 12.979781147639784 False\n",
      "[101.33160195767522, 10, 36] -53.11228770877079 False\n",
      "[101.61786340364111, 10, 35] -9.917200411601783 False\n",
      "[104.48565025521032, 10, 34] -159.55821972011222 False\n",
      "[102.02138668779308, 10, 33] 147.36552878304877 False\n",
      "[101.20210367610227, 10, 32] 45.44873662708156 False\n",
      "[102.37500094296827, 10, 31] -55.74250890842123 False\n",
      "[105.71466478972363, 10, 30] -204.9708590216744 False\n",
      "[105.39536019023178, 10, 29] 25.671942409907018 False\n",
      "[105.46624911163515, 10, 28] -1.372600811797895 False\n",
      "[105.17738589347083, 10, 27] 23.638525398321235 False\n",
      "[106.97659396435225, 10, 26] -127.34192123232148 False\n",
      "[106.60131778152328, 10, 25] 31.401738858225485 False\n",
      "[107.53519101011453, 10, 24] -69.00655240549625 False\n",
      "[107.11392058129869, 10, 23] 35.714259884361326 False\n",
      "[105.41618792410861, 10, 22] 130.86610773884587 False\n",
      "[105.84781021460985, 10, 21] -28.06202220272823 False\n",
      "[106.53644680410044, 10, 20] -49.06737626980771 False\n",
      "[108.30651480717334, 10, 19] -139.87143854272603 False\n",
      "[108.16828953097328, 10, 18] 13.585636027770107 False\n",
      "[107.33976416714768, 10, 17] 70.67401952479884 False\n",
      "[108.11955407613263, 10, 16] -62.52587043053296 False\n",
      "[108.46230650882839, 10, 15] -27.25216330372149 False\n",
      "[108.8611123132264, 10, 14] -32.7745014884384 False\n",
      "[108.77353497383176, 10, 13] 8.947081842310638 False\n",
      "[110.39505167562685, 10, 12] -141.85412997098894 False\n",
      "[110.92552889666506, 10, 11] -46.823063118038135 False\n",
      "[113.64406236835073, 10, 10] -243.80986251516305 False\n",
      "[115.26630917591743, 10, 9] -145.93471584086146 False\n",
      "[116.24517950003704, 10, 8] -88.09110438423744 False\n",
      "[113.89032561468181, 10, 7] 211.93393490773502 False\n",
      "[114.77511964062792, 10, 6] -79.62782674872997 False\n",
      "[115.40075870530225, 10, 5] -56.30725434644276 False\n",
      "[116.60460254222772, 10, 4] -108.34593509933427 False\n",
      "[118.16949707168516, 10, 3] -140.84050762813888 False\n",
      "[117.58591490408568, 10, 2] 52.52239508395263 False\n",
      "[118.83217401497444, 10, 1] -112.16331997998822 False\n",
      "[118.00411912473328, 10, 0] 74.52494012170462 True\n"
     ]
    }
   ],
   "source": [
    "state = env.reset()\n",
    "for i in range(50):\n",
    "    # write a function for action like Q-learning or Monte-Carlo\n",
    "    pervious_state = state\n",
    "    next_state, reward, done, info = env.step_profit_loss(10)\n",
    "    state = next_state\n",
    "    print(next_state, reward, done)"
   ]
  },
  {
   "cell_type": "code",
   "execution_count": null,
   "id": "c5bf1378",
   "metadata": {},
   "outputs": [],
   "source": []
  }
 ],
 "metadata": {
  "kernelspec": {
   "display_name": "Python 3",
   "language": "python",
   "name": "python3"
  },
  "language_info": {
   "codemirror_mode": {
    "name": "ipython",
    "version": 3
   },
   "file_extension": ".py",
   "mimetype": "text/x-python",
   "name": "python",
   "nbconvert_exporter": "python",
   "pygments_lexer": "ipython3",
   "version": "3.7.11"
  }
 },
 "nbformat": 4,
 "nbformat_minor": 5
}
