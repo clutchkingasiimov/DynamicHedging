{
 "cells": [
  {
   "cell_type": "code",
   "execution_count": 1,
   "id": "340e749e",
   "metadata": {},
   "outputs": [],
   "source": [
    "import random\n",
    "\n",
    "import numpy as np\n",
    "from scipy.stats import norm"
   ]
  },
  {
   "cell_type": "code",
   "execution_count": 2,
   "id": "f565b00b",
   "metadata": {},
   "outputs": [],
   "source": [
    "import matplotlib.pyplot as plt"
   ]
  },
  {
   "cell_type": "code",
   "execution_count": 3,
   "id": "9c0d080e",
   "metadata": {},
   "outputs": [],
   "source": [
    "# start random generator\n",
    "random.seed(1)"
   ]
  },
  {
   "cell_type": "code",
   "execution_count": 4,
   "id": "b0b8d564",
   "metadata": {},
   "outputs": [],
   "source": [
    "#Brownian motion\n",
    "\"\"\"\n",
    " Takes: The number of no of paths: no of diff stokes to get path\n",
    "        The number of no of paths: time duration\n",
    "        mu: % annual return \n",
    "        std: standerd divition for path\n",
    "        init_p : stating value\n",
    "        dt : time difference before next point\n",
    "        \n",
    " Returns: all the paths \n",
    " \n",
    "\"\"\"\n",
    "\n",
    "def brownian_sim(num_path, num_period, mu, std, init_p, dt):\n",
    "    z = np.random.normal(size=(num_path, num_period))\n",
    "\n",
    "    a_price = np.zeros((num_path, num_period))\n",
    "    a_price[:, 0] = init_p\n",
    "\n",
    "    for t in range(num_period - 1):\n",
    "        a_price[:, t + 1] = a_price[:, t] * np.exp(\n",
    "            (mu - (std ** 2) / 2) * dt + std * np.sqrt(dt) * z[:, t]\n",
    "        )\n",
    "    return a_price"
   ]
  },
  {
   "cell_type": "code",
   "execution_count": 106,
   "id": "701ea8c1",
   "metadata": {},
   "outputs": [
    {
     "data": {
      "text/plain": [
       "[<matplotlib.lines.Line2D at 0x7f1ca527cc10>]"
      ]
     },
     "execution_count": 106,
     "metadata": {},
     "output_type": "execute_result"
    },
    {
     "data": {
      "image/png": "[encoded data removed]",
      "text/plain": [
       "<Figure size 432x288 with 1 Axes>"
      ]
     },
     "metadata": {
      "needs_background": "light"
     },
     "output_type": "display_data"
    }
   ],
   "source": [
    "S1_path = brownian_sim(num_path= 1, num_period=50, mu=0.05, std=0.1, init_p = 100, dt=0.01)\n",
    "S1_path[0]\n",
    "plt.plot(S1_path[0])"
   ]
  },
  {
   "cell_type": "code",
   "execution_count": 41,
   "id": "e6811d3c",
   "metadata": {},
   "outputs": [],
   "source": [
    "# BSM Call Option Pricing Formula & BS Delta formula\n",
    "'''\n",
    "Takes: av : Annual Volatility\n",
    "       T : time to maturity\n",
    "       S : Stock path (which we would get from #brownian_sim function)\n",
    "       K : Option Strike Price\n",
    "       r : Annual Risk Free Rate\n",
    "       q : Annual Dividend (which would be 0 as we are considering risk free)\n",
    "\n",
    "Returns: 1) bs_price : option price paths (num_path x num_period)\n",
    "         2) b_delta : delta (num_path x num_period)\n",
    "\n",
    "'''\n",
    "\n",
    "def bs_call(iv, T, S, K, r, q):\n",
    "    \n",
    "    d1 = (np.log(S / K) + (r - q + iv * iv / 2) * T) / (iv * np.sqrt(T))\n",
    "    d2 = d1 - iv * np.sqrt(T)\n",
    "    \n",
    "    bs_price = S * np.exp(-q * T) * norm.cdf(d1) - K * np.exp(-r * T) * norm.cdf(d2)\n",
    "    \n",
    "    bs_delta = np.exp(-q * T) * norm.cdf(d1)\n",
    "    \n",
    "    return bs_price, bs_delta"
   ]
  },
  {
   "cell_type": "code",
   "execution_count": 95,
   "id": "445e02d7",
   "metadata": {},
   "outputs": [],
   "source": [
    "def get_sim_path(M, freq, np_seed, num_sim):\n",
    "    \"\"\" Return simulated data: a tuple of three arrays\n",
    "        M: initial time to maturity\n",
    "        freq: trading freq in unit of day, e.g. freq=2: every 2 day; freq=0.5 twice a day;\n",
    "        np_seed: numpy random seed\n",
    "        num_sim: number of simulation path\n",
    "        1) asset price paths (num_path x num_period)\n",
    "        2) option price paths (num_path x num_period)\n",
    "        3) delta (num_path x num_period)\n",
    "    \"\"\"\n",
    "    # set the np random seed\n",
    "    np.random.seed(np_seed)\n",
    "\n",
    "    # Trading Freq per day; passed from function parameter\n",
    "    # freq = 2\n",
    "\n",
    "    # Annual Trading Day\n",
    "    T = 252\n",
    "\n",
    "    # Simulation Time Step\n",
    "    dt = 0.004 * freq\n",
    "\n",
    "    # Option Day to Maturity; passed from function parameter\n",
    "    # M = 60\n",
    "\n",
    "    # Number of period\n",
    "    num_period = int(M / freq)\n",
    "\n",
    "    # Number of simulations; passed from function parameter\n",
    "    # num_sim = 1000000\n",
    "\n",
    "    # Annual Return\n",
    "    mu = 0.05\n",
    "    \n",
    "    # Annual Volatility\n",
    "    vol = 0.2\n",
    "    \n",
    "    # Initial Asset Value\n",
    "    S = 100\n",
    "\n",
    "    # Option Strike Price\n",
    "    K = 100\n",
    "\n",
    "    # Annual Risk Free Rate\n",
    "    r = 0\n",
    "\n",
    "    # Annual Dividend\n",
    "    q = 0\n",
    "\n",
    "    # asset price 2-d array\n",
    "    print(\"1. generate asset price paths\")\n",
    "    a_price = brownian_sim(num_sim, num_period + 1, mu, vol, S, dt)\n",
    "\n",
    "    # time to maturity \"rank 1\" array: e.g. [M, M-1, ..., 0]\n",
    "    ttm = np.arange(M, -freq, -freq)\n",
    "\n",
    "    # BS price 2-d array and bs delta 2-d array\n",
    "    print(\"2. generate BS price and delta\")\n",
    "    bs_price, bs_delta = bs_call(vol, ttm/T, a_price, K, r, q)\n",
    "\n",
    "    print(\"simulation done!\")\n",
    "\n",
    "    return a_price, bs_price, bs_delta, ttm"
   ]
  }
 ],
 "metadata": {
  "kernelspec": {
   "display_name": "Python 3",
   "language": "python",
   "name": "python3"
  },
  "language_info": {
   "codemirror_mode": {
    "name": "ipython",
    "version": 3
   },
   "file_extension": ".py",
   "mimetype": "text/x-python",
   "name": "python",
   "nbconvert_exporter": "python",
   "pygments_lexer": "ipython3",
   "version": "3.7.11"
  }
 },
 "nbformat": 4,
 "nbformat_minor": 5
}
